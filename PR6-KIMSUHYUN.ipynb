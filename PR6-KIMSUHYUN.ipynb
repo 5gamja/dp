{
 "cells": [
  {
   "cell_type": "code",
   "execution_count": 1,
   "metadata": {},
   "outputs": [
    {
     "name": "stdout",
     "output_type": "stream",
     "text": [
      "{0: 'Ajou', 1: 'University', 2: 'and', 3: 'Business', 4: 'School'}\n"
     ]
    }
   ],
   "source": [
    "d1={i:j for i,j in enumerate(\"Ajou University and Business School\".split())}\n",
    "print(d1)"
   ]
  },
  {
   "cell_type": "code",
   "execution_count": 3,
   "metadata": {},
   "outputs": [
    {
     "name": "stdout",
     "output_type": "stream",
     "text": [
      "[(1, 10, 100), (2, 20, 200), (3, 30, 300)]\n",
      "[111, 222, 333]\n"
     ]
    }
   ],
   "source": [
    "a1=[1,2,3]\n",
    "b1=[10,20,30]\n",
    "c1=[100,200,300]\n",
    "\n",
    "print(list(zip(a1,b1,c1)))\n",
    "d2=[sum(x) for x in zip(a1,b1,c1)]\n",
    "print(d2)"
   ]
  },
  {
   "cell_type": "code",
   "execution_count": 14,
   "metadata": {},
   "outputs": [
    {
     "data": {
      "text/plain": [
       "[('a', 8),\n",
       " ('d', 8),\n",
       " ('s', 7),\n",
       " ('j', 6),\n",
       " ('k', 5),\n",
       " ('l', 5),\n",
       " ('g', 5),\n",
       " ('f', 4),\n",
       " ('h', 2),\n",
       " ('w', 1),\n",
       " (';', 1)]"
      ]
     },
     "execution_count": 14,
     "metadata": {},
     "output_type": "execute_result"
    }
   ],
   "source": [
    "st=\"ajskdlfjakslasdwgafdhhgdjasdffkalsjdgklajsdlkg;jasdg\"\n",
    "dict_ch = {}\n",
    "for ch in st:\n",
    "    dict_ch[ch] = dict_ch.get(ch, 0) + 1\n",
    "dict_ch\n",
    "sorted_dict_ch = sorted(list(dict_ch.items()), key=lambda x:x[1],reverse=True)\n",
    "sorted_dict_ch"
   ]
  },
  {
   "cell_type": "code",
   "execution_count": 8,
   "metadata": {},
   "outputs": [
    {
     "name": "stdout",
     "output_type": "stream",
     "text": [
      "[111, 222, 333]\n"
     ]
    }
   ],
   "source": [
    "m1=[[1,2,3],[10,20,30],[100,200,300]]\n",
    "m2=[sum(x) for x in zip(*m1)]\n",
    "print(m2)"
   ]
  },
  {
   "cell_type": "code",
   "execution_count": null,
   "metadata": {},
   "outputs": [],
   "source": []
  }
 ],
 "metadata": {
  "kernelspec": {
   "display_name": "Python 3",
   "language": "python",
   "name": "python3"
  },
  "language_info": {
   "codemirror_mode": {
    "name": "ipython",
    "version": 3
   },
   "file_extension": ".py",
   "mimetype": "text/x-python",
   "name": "python",
   "nbconvert_exporter": "python",
   "pygments_lexer": "ipython3",
   "version": "3.7.3"
  }
 },
 "nbformat": 4,
 "nbformat_minor": 2
}

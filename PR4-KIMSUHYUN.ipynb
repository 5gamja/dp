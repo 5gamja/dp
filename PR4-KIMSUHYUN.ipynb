{
 "cells": [
  {
   "cell_type": "code",
   "execution_count": 2,
   "metadata": {},
   "outputs": [
    {
     "name": "stdout",
     "output_type": "stream",
     "text": [
      "pass\n",
      "pass\n",
      "pass\n",
      "pass\n",
      "fail\n"
     ]
    }
   ],
   "source": [
    "score=[65,80,75,55,90]\n",
    "\n",
    "for i in range(len(score)):\n",
    "    if score[i]>=60:\n",
    "        print(\"pass\")\n",
    "else:\n",
    "    print(\"fail\")"
   ]
  },
  {
   "cell_type": "code",
   "execution_count": 9,
   "metadata": {},
   "outputs": [
    {
     "ename": "SyntaxError",
     "evalue": "invalid syntax (<ipython-input-9-67fd7e32fd92>, line 2)",
     "output_type": "error",
     "traceback": [
      "\u001b[1;36m  File \u001b[1;32m\"<ipython-input-9-67fd7e32fd92>\"\u001b[1;36m, line \u001b[1;32m2\u001b[0m\n\u001b[1;33m    dic_1=[\"cat\":1, \"dog\":0, \"Cat\":1, \"Dog\":0]\u001b[0m\n\u001b[1;37m                ^\u001b[0m\n\u001b[1;31mSyntaxError\u001b[0m\u001b[1;31m:\u001b[0m invalid syntax\n"
     ]
    }
   ],
   "source": [
    "data1=[\"Cat\",\"Dog\",\"cat\",\"dog\",\"cat\",\"cat\",\"Cat\",\"Dog\",\"dog\",\"Dog\",\"cat\",\"Dog\"]\n",
    "dic_1=[\"cat\":1, \"dog\":0, \"Cat\":1, \"Dog\":0]\n",
    "data2=[dic_1[key] for key in data1]\n",
    "print(data2)\n"
   ]
  },
  {
   "cell_type": "code",
   "execution_count": null,
   "metadata": {},
   "outputs": [],
   "source": []
  }
 ],
 "metadata": {
  "kernelspec": {
   "display_name": "Python 3",
   "language": "python",
   "name": "python3"
  },
  "language_info": {
   "codemirror_mode": {
    "name": "ipython",
    "version": 3
   },
   "file_extension": ".py",
   "mimetype": "text/x-python",
   "name": "python",
   "nbconvert_exporter": "python",
   "pygments_lexer": "ipython3",
   "version": "3.7.3"
  }
 },
 "nbformat": 4,
 "nbformat_minor": 2
}

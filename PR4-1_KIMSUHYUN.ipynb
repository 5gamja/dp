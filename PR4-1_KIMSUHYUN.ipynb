{
 "cells": [
  {
   "cell_type": "code",
   "execution_count": 1,
   "metadata": {},
   "outputs": [
    {
     "name": "stdout",
     "output_type": "stream",
     "text": [
      "{1, 2, 3}\n",
      "1 2 3\n"
     ]
    }
   ],
   "source": [
    "t={1,2,3}\n",
    "a,b,c=t\n",
    "print(t)\n",
    "print(a,b,c)"
   ]
  },
  {
   "cell_type": "code",
   "execution_count": 2,
   "metadata": {},
   "outputs": [
    {
     "name": "stdout",
     "output_type": "stream",
     "text": [
      "pass\n",
      "pass\n",
      "pass\n",
      "pass\n",
      "fail\n"
     ]
    }
   ],
   "source": [
    "score=[65,80,75,55,90]\n",
    "\n",
    "for i in range(len(score)):\n",
    "    if score[i]>=60:\n",
    "        print(\"pass\")\n",
    "else:\n",
    "    print(\"fail\")"
   ]
  },
  {
   "cell_type": "code",
   "execution_count": 4,
   "metadata": {},
   "outputs": [
    {
     "ename": "SyntaxError",
     "evalue": "invalid syntax (<ipython-input-4-d4e2aa58b3bd>, line 3)",
     "output_type": "error",
     "traceback": [
      "\u001b[1;36m  File \u001b[1;32m\"<ipython-input-4-d4e2aa58b3bd>\"\u001b[1;36m, line \u001b[1;32m3\u001b[0m\n\u001b[1;33m    dic1=[\"cat\":1, \"dog\":0, \"Cat\":1, \"Dog\":0]\u001b[0m\n\u001b[1;37m               ^\u001b[0m\n\u001b[1;31mSyntaxError\u001b[0m\u001b[1;31m:\u001b[0m invalid syntax\n"
     ]
    }
   ],
   "source": [
    "#[1,0,1,0,1,1,1,0,0,0,1,0]gh\n",
    "data1=[\"Cat\",\"Dog\",\"cat\",\"dog\",\"cat\",\"cat\",\"Cat\",\"Dog\",\"dog\",\"Dog\",\"cat\",\"Dog\"]\n",
    "dic_1=[\"cat\":1, \"dog\":0, \"Cat\":1, \"Dog\":0]\n",
    "data2=[dic_1[key] for key in data1]\n",
    "print(data2)"
   ]
  },
  {
   "cell_type": "code",
   "execution_count": 12,
   "metadata": {},
   "outputs": [
    {
     "name": "stdout",
     "output_type": "stream",
     "text": [
      "600\n"
     ]
    }
   ],
   "source": [
    "def cal_rec(x,y):\n",
    "    z=x*y\n",
    "    return z\n",
    "\n",
    "print (cal_rec(20,30))"
   ]
  },
  {
   "cell_type": "code",
   "execution_count": 15,
   "metadata": {},
   "outputs": [
    {
     "name": "stdout",
     "output_type": "stream",
     "text": [
      "600\n",
      "200\n"
     ]
    }
   ],
   "source": [
    "def cal_rec(x,y):\n",
    "    z=x*y\n",
    "    return z\n",
    "\n",
    "print (cal_rec(20,30))\n",
    "a=10\n",
    "b=20\n",
    "k=cal_rec(a,b)\n",
    "print(k)\n",
    "\n"
   ]
  },
  {
   "cell_type": "code",
   "execution_count": 17,
   "metadata": {},
   "outputs": [
    {
     "name": "stdout",
     "output_type": "stream",
     "text": [
      "inside 30\n",
      "300\n",
      "50\n"
     ]
    }
   ],
   "source": [
    "#변수의 범위, 지역변수 xy     x 전역변수\n",
    "def cal_rec2(x,y):\n",
    "    print(\"inside\",x)\n",
    "    print(x*y)\n",
    "\n",
    "x=50\n",
    "\n",
    "cal_rec2(30,10)\n",
    "print(x)"
   ]
  },
  {
   "cell_type": "code",
   "execution_count": 18,
   "metadata": {},
   "outputs": [
    {
     "name": "stdout",
     "output_type": "stream",
     "text": [
      "inside 30\n",
      "300\n",
      "50\n"
     ]
    }
   ],
   "source": [
    "#함수의 심화#  --- 어렵다\n",
    "def cal_rec2(x,y):\n",
    "    print(\"inside\",x)\n",
    "    print(x*y)\n",
    "\n",
    "x=50\n",
    "a=10\n",
    "b=20\n",
    "cal_rec2(30,10)\n",
    "print(x)\n"
   ]
  },
  {
   "cell_type": "code",
   "execution_count": 26,
   "metadata": {},
   "outputs": [
    {
     "ename": "IndentationError",
     "evalue": "unindent does not match any outer indentation level (<tokenize>, line 3)",
     "output_type": "error",
     "traceback": [
      "\u001b[1;36m  File \u001b[1;32m\"<tokenize>\"\u001b[1;36m, line \u001b[1;32m3\u001b[0m\n\u001b[1;33m    print(x1)\u001b[0m\n\u001b[1;37m    ^\u001b[0m\n\u001b[1;31mIndentationError\u001b[0m\u001b[1;31m:\u001b[0m unindent does not match any outer indentation level\n"
     ]
    }
   ],
   "source": [
    "def spam(x1):\n",
    "     x1.append(1)\n",
    "    print(x1)\n",
    "    x1=[2,3]\n",
    "    print(x1)\n",
    "\n",
    "y1=[0,2]\n",
    "spam(y1)\n",
    "print(y1)    "
   ]
  },
  {
   "cell_type": "code",
   "execution_count": null,
   "metadata": {},
   "outputs": [],
   "source": []
  }
 ],
 "metadata": {
  "kernelspec": {
   "display_name": "Python 3",
   "language": "python",
   "name": "python3"
  },
  "language_info": {
   "codemirror_mode": {
    "name": "ipython",
    "version": 3
   },
   "file_extension": ".py",
   "mimetype": "text/x-python",
   "name": "python",
   "nbconvert_exporter": "python",
   "pygments_lexer": "ipython3",
   "version": "3.7.3"
  }
 },
 "nbformat": 4,
 "nbformat_minor": 2
}
